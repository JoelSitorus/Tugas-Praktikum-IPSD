{
  "cells": [
    {
      "cell_type": "markdown",
      "metadata": {
        "id": "7ZsWSDILOnCj"
      },
      "source": [
        "Soal 1 : Memecahkan Masalah Unik Dengan Loop & If-Else\n",
        "\n",
        "Buatlah program yang dapat menghasilkan pola berbentuk angka seperti di bawah ini, dengan syarat angka yang ditampilkan adalah hasil dari penjumlahan bilangan prima sebelumnya :\n",
        "```\n",
        "1\n",
        "2 3\n",
        "5 7 11\n",
        "13 17 19 23\n",
        "...\n",
        "```\n",
        "Jumlah angka pada setiap baris bertambah 1, dan bilangan yang ditampilkan adalah bilangan prima."
      ]
    },
    {
      "cell_type": "code",
      "execution_count": 73,
      "metadata": {
        "colab": {
          "base_uri": "https://localhost:8080/"
        },
        "id": "F8C0R0yNOcwP",
        "outputId": "90ed3aee-24e9-4361-820d-500289459c5d"
      },
      "outputs": [
        {
          "name": "stdout",
          "output_type": "stream",
          "text": [
            "2 \n",
            "3 5 \n",
            "7 11 13 \n",
            "17 19 23 29 \n",
            "31 37 41 43 47 \n",
            "53 59 61 67 71 73 \n",
            "79 83 89 97 101 103 107 \n",
            "109 113 127 131 137 139 149 151 \n",
            "157 163 167 173 179 181 191 193 197 \n",
            "199 211 223 227 229 233 239 241 251 257 \n"
          ]
        }
      ],
      "source": [
        "def is_prime(n):\n",
        "    \"Fungsi Untuk Memeriksa Apakah Suatu Bilangan Merupakan Bilangan Prima.\"\n",
        "    if n <= 1:\n",
        "        return False\n",
        "    for i in range(2, int(n**0.5) + 1):\n",
        "        if n % i == 0:\n",
        "            return False\n",
        "    return True\n",
        "\n",
        "def generate_primes(count):\n",
        "    \"Fungsi Untuk Menghasilkan Daftar Bilangan Prima Sebanyak 'Count'.\"\n",
        "    primes = []\n",
        "    num = 2  # Bilangan Pertama Yang Diperiksa\n",
        "    while len(primes) < count:\n",
        "        if is_prime(num):\n",
        "            primes.append(num)\n",
        "        num += 1\n",
        "    return primes\n",
        "\n",
        "def print_prime_pattern(rows):\n",
        "    \"Fungsi Untuk Menampilkan Pola Bilangan Prima Berdasarkan Jumlah Baris.\"\n",
        "    total_primes = (rows * (rows + 1)) // 2  # Total Bilangan Prima Yang Dibutuhkan\n",
        "    primes = generate_primes(total_primes)\n",
        "\n",
        "    index = 0\n",
        "    for row in range(1, rows + 1):\n",
        "        for col in range(row):\n",
        "            print(primes[index], end=' ')\n",
        "            index += 1\n",
        "        print()\n",
        "\n",
        "# Menentukan Jumlah Baris Yang Ingin Ditampilkan\n",
        "Jumlah_Baris = 10\n",
        "print_prime_pattern(Jumlah_Baris)"
      ]
    },
    {
      "cell_type": "markdown",
      "metadata": {
        "id": "P-77tc3kZDGa"
      },
      "source": [
        "Soal 2 : Membuat Fungsi Dengan Syarat Spesifik\n",
        "\n",
        "Buatlah sebuah fungsi yang menerima dua input berupa list angka. Fungsi ini harus mengembalikan sebuah list baru yang berisi elemen dari dua list input yang memiliki indeks ganjil. List baru tersebut juga harus diurutkan secara menurun berdasarkan nilai elemen."
      ]
    },
    {
      "cell_type": "code",
      "execution_count": 74,
      "metadata": {
        "colab": {
          "base_uri": "https://localhost:8080/"
        },
        "id": "iu0ZHACuZRAZ",
        "outputId": "5ffa108b-0e4e-4a96-d4c8-134b737b80c9"
      },
      "outputs": [
        {
          "name": "stdout",
          "output_type": "stream",
          "text": [
            "[98, 47, 37, 24]\n"
          ]
        }
      ],
      "source": [
        "def odd_index_elements(list1, list2):\n",
        "    # Menggabungkan Elemen Dengan Indeks Ganjil Dari Kedua List\n",
        "    combined_list = [x for i, x in enumerate(list1 + list2) if i % 2 != 0]\n",
        "\n",
        "    # Mengurutkan Elemen Dalam List Baru Secara Menurun\n",
        "    combined_list.sort(reverse=True)\n",
        "\n",
        "    return combined_list\n",
        "\n",
        "# Contoh Penggunaan Fungsi\n",
        "list1 = [23, 47, 65, 37]\n",
        "list2 = [12, 24, 56, 98]\n",
        "\n",
        "result = odd_index_elements(list1, list2)\n",
        "print(result)"
      ]
    },
    {
      "cell_type": "markdown",
      "metadata": {
        "id": "Xd3RTdgWbYiF"
      },
      "source": [
        "Soal 3 : Exception Handling Dalam Konteks Nyata\n",
        "\n",
        "Buat sebuah program untuk mensimulasikan transaksi ATM. Program harus :\n",
        "1. Meminta pengguna memasukkan PIN (dibatasi 3 kali percobaan).\n",
        "2. Setelah PIN benar, meminta jumlah penarikan.\n",
        "3. Jika saldo kurang dari jumlah yang ditarik, munculkan pesan kesalahan.\n",
        "4. Jika penarikan berhasil, tampilkan saldo akhir.\n"
      ]
    },
    {
      "cell_type": "code",
      "execution_count": 76,
      "metadata": {
        "colab": {
          "base_uri": "https://localhost:8080/"
        },
        "id": "XRunnuHObhfW",
        "outputId": "13900896-8ac6-43b2-d057-b74dcc3bb282"
      },
      "outputs": [
        {
          "name": "stdout",
          "output_type": "stream",
          "text": [
            "Masukkan PIN Anda : 1729\n",
            "PIN Yang Anda Masukkan Benar. Selamat Datang Di ATM.\n",
            "Masukkan Jumlah Penarikan : 140000\n",
            "Penarikan Berhasil!! Saldo Akhir Anda = Rp 110000\n"
          ]
        }
      ],
      "source": [
        "def atm_simulation():\n",
        "    # Atur PIN Dan Saldo\n",
        "    correct_pin = \"1729\"  # PIN Yang Benar\n",
        "    balance = 250000       # Saldo Awal\n",
        "\n",
        "    # Meminta Pengguna Untuk Memasukkan PIN Dengan Batasan 3 Kali Percobaan\n",
        "    for attempt in range(3):\n",
        "        pin = input(\"Masukkan PIN Anda : \")\n",
        "\n",
        "        if pin == correct_pin:\n",
        "            print(\"PIN Yang Anda Masukkan Benar. Selamat Datang Di ATM.\")\n",
        "            break\n",
        "        else:\n",
        "            print(\"PIN Yang Anda Masukkan Salah. Silakan Coba Kembali.\")\n",
        "            if attempt == 2:\n",
        "                print(\"Anda Telah Mencoba 3 Kali. Transaksi Dibatalkan.\")\n",
        "                return\n",
        "\n",
        "    # Meminta Jumlah Penarikan Setelah PIN Yang Dimasukkan Benar\n",
        "    while True:\n",
        "        try:\n",
        "            withdrawal_amount = int(input(\"Masukkan Jumlah Penarikan : \"))\n",
        "\n",
        "            if withdrawal_amount > balance:\n",
        "                print(\"Kesalahan!! Saldo Tidak Mencukupi Untuk Penarikan Sebesar Rp\", withdrawal_amount)\n",
        "            else:\n",
        "                balance -= withdrawal_amount\n",
        "                print(\"Penarikan Berhasil!! Saldo Akhir Anda = Rp\", balance)\n",
        "                break\n",
        "\n",
        "        except ValueError:\n",
        "            print(\"Input Tidak Valid. Silakan Masukkan Angka Kembali.\")\n",
        "\n",
        "# Menjalankan Program Simulasi ATM\n",
        "atm_simulation()"
      ]
    },
    {
      "cell_type": "markdown",
      "metadata": {
        "id": "2iqR88rUcJGk"
      },
      "source": [
        "Soal 4 : Studi Kasus Pengelolaan Data\n",
        "\n",
        "Anda diberikan file CSV berisi data nilai ujian mahasiswa. Tugas Anda adalah menulis sebuah program yang :\n",
        "1. Membaca file CSV dan menyimpan datanya ke dalam dictionary.\n",
        "2. Menghitung rata-rata nilai tiap mahasiswa.\n",
        "3. Menampilkan mahasiswa dengan nilai tertinggi dan terendah.\n"
      ]
    },
    {
      "cell_type": "code",
      "execution_count": 77,
      "metadata": {
        "colab": {
          "base_uri": "https://localhost:8080/"
        },
        "id": "vTokVGkHqgtr",
        "outputId": "8ae2192e-ab21-4969-a9e1-5767bdff47f3"
      },
      "outputs": [
        {
          "name": "stdout",
          "output_type": "stream",
          "text": [
            "    Nama Mahasiswa  Nilai\n",
            "0   Rina Nasruddin     98\n",
            "1       Tono Halim     61\n",
            "2    Wawan Suryadi     51\n",
            "3    Dinda Hidayat     50\n",
            "4     Budi Hidayat     97\n",
            "..             ...    ...\n",
            "95   Indra Purnomo     91\n",
            "96    Siti Rachman     86\n",
            "97  Wulan Hartanto     72\n",
            "98    Lani Harahap     61\n",
            "99  Fatimah Ridwan     88\n",
            "\n",
            "[100 rows x 2 columns]\n"
          ]
        }
      ],
      "source": [
        "import pandas as pd\n",
        "\n",
        "# Membaca File CSV\n",
        "df = pd.read_csv('Nilai_Ujian_Mahasiswa.csv')\n",
        "\n",
        "# Menampilkan Data Nilai Ujian Mahasiswa\n",
        "print(df)"
      ]
    },
    {
      "cell_type": "code",
      "execution_count": 80,
      "metadata": {
        "colab": {
          "base_uri": "https://localhost:8080/"
        },
        "id": "7Tg-H9lYqwfG",
        "outputId": "9a0c76a7-d8b6-4932-8367-73577f491906"
      },
      "outputs": [
        {
          "name": "stdout",
          "output_type": "stream",
          "text": [
            "Rata-Rata Nilai Ujian Setiap Mahasiswa :\n",
            "Rina Nasruddin : 75.00\n",
            "Tono Halim : 54.00\n",
            "Wawan Suryadi : 61.00\n",
            "Dinda Hidayat : 99.00\n",
            "Budi Hidayat : 83.00\n",
            "Susi Nugraha : 90.00\n",
            "Firman Rachman : 54.00\n",
            "Tina Fauzan : 73.00\n",
            "Yuni Santoso : 86.00\n",
            "Asep Anggraini : 94.00\n",
            "Rina Saputra : 90.00\n",
            "Lani Wijaya : 62.00\n",
            "Dodo Agustina : 88.00\n",
            "Cici Nasruddin : 70.00\n",
            "Rudi Prasetyo : 65.00\n",
            "Indra Purnomo : 91.00\n",
            "Siti Rachman : 86.00\n",
            "Wulan Hartanto : 72.00\n",
            "Lani Harahap : 61.00\n",
            "Fatimah Ridwan : 88.00\n",
            "\n",
            "Mahasiswa Dengan Rata-Rata Nilai Ujian Tertinggi : Dinda Hidayat (Rata-Rata : 99.00)\n",
            "Mahasiswa Dengan Rata-Rata Nilai Ujian Terendah : Tono Halim (Rata-Rata : 54.00)\n"
          ]
        }
      ],
      "source": [
        "import csv\n",
        "\n",
        "def read_csv_to_dict(filename):\n",
        "    data = {}\n",
        "    with open(filename, mode='r') as file:\n",
        "        reader = csv.reader(file)\n",
        "        # Mengabaikan Header Jika Ada\n",
        "        header = next(reader)\n",
        "\n",
        "        for row in reader:\n",
        "            name = row[0]\n",
        "            scores = list(map(float, row[1:]))\n",
        "            data[name] = scores\n",
        "\n",
        "    return data\n",
        "\n",
        "def calculate_average_scores(data):\n",
        "    averages = {}\n",
        "    for name, scores in data.items():\n",
        "        average = sum(scores) / len(scores) if scores else 0\n",
        "        averages[name] = average\n",
        "    return averages\n",
        "\n",
        "def find_highest_lowest(averages):\n",
        "    highest_student = max(averages, key=averages.get)\n",
        "    lowest_student = min(averages, key=averages.get)\n",
        "\n",
        "    return highest_student, averages[highest_student], lowest_student, averages[lowest_student]\n",
        "\n",
        "# Main Program\n",
        "filename = 'Nilai_Ujian_Mahasiswa.csv'  # Nama File CSV Yang Digunakan\n",
        "data = read_csv_to_dict(filename)\n",
        "averages = calculate_average_scores(data)\n",
        "highest_student, highest_score, lowest_student, lowest_score = find_highest_lowest(averages)\n",
        "\n",
        "# Menampilkan Hasil\n",
        "print(\"Rata-Rata Nilai Ujian Setiap Mahasiswa :\")\n",
        "for name, avg in averages.items():\n",
        "    print(f\"{name} : {avg:.2f}\")\n",
        "\n",
        "print(f\"\\nMahasiswa Dengan Rata-Rata Nilai Ujian Tertinggi : {highest_student} (Rata-Rata : {highest_score:.2f})\")\n",
        "print(f\"Mahasiswa Dengan Rata-Rata Nilai Ujian Terendah : {lowest_student} (Rata-Rata : {lowest_score:.2f})\")"
      ]
    },
    {
      "cell_type": "markdown",
      "metadata": {
        "id": "nmZRsrCMsq1b"
      },
      "source": [
        "Soal 5 : Kombinasi Logika Dan Kreativitas\n",
        "\n",
        "Buatlah permainan sederhana menggunakan Python, di mana komputer akan memilih sebuah angka secara acak antara 1 hingga 100, dan pengguna harus menebak angka tersebut. Setiap tebakan yang salah akan memberikan petunjuk apakah angka yang ditebak lebih besar atau lebih kecil dari angka sebenarnya. Batasi jumlah percobaan menjadi 5 kali. Setelah permainan selesai, tampilkan apakah pemain menang atau kalah.\n"
      ]
    },
    {
      "cell_type": "code",
      "execution_count": 82,
      "metadata": {
        "colab": {
          "base_uri": "https://localhost:8080/"
        },
        "id": "0d4cTMlDsxhd",
        "outputId": "62760001-8548-46bf-db5f-206ca15db120"
      },
      "outputs": [
        {
          "name": "stdout",
          "output_type": "stream",
          "text": [
            "Selamat Datang Di Permainan Tebak Angka!!\n",
            "Komputer Telah Memilih Sebuah Angka Antara 1 Hingga 100.\n",
            "Masukkan Tebakan Anda (Sisa Percobaan : 5) : 45\n",
            "Tebakan Anda > Angka Sebenarnya. Coba Kembali!\n",
            "Masukkan Tebakan Anda (Sisa Percobaan : 4) : 23\n",
            "Tebakan Anda < Angka Sebenarnya. Coba Kembali!\n",
            "Masukkan Tebakan Anda (Sisa Percobaan : 3) : 36\n",
            "Tebakan Anda > Angka Sebenarnya. Coba Kembali!\n",
            "Masukkan Tebakan Anda (Sisa Percobaan : 2) : 27\n",
            "Tebakan Anda < Angka Sebenarnya. Coba Kembali!\n",
            "Masukkan Tebakan Anda (Sisa Percobaan : 1) : 33\n",
            "Tebakan Anda > Angka Sebenarnya. Coba Kembali!\n",
            "Maaf, Anda Tidak Berhasil Menebak Angka 29 Dalam 5 Kali Percobaan.\n",
            "Mohon Maaf, Anda Kalah.\n"
          ]
        }
      ],
      "source": [
        "import random\n",
        "\n",
        "def tebak_angka():\n",
        "    # Memilih Angka Acak Antara 1 Hingga 100\n",
        "    angka_sebenarnya = random.randint(1, 100)\n",
        "\n",
        "    # Membatasi Jumlah Percobaan Menjadi 5 Kali\n",
        "    percobaan = 5\n",
        "\n",
        "    print(\"Selamat Datang Di Permainan Tebak Angka!!\")\n",
        "    print(\"Komputer Telah Memilih Sebuah Angka Antara 1 Hingga 100.\")\n",
        "\n",
        "    while percobaan > 0:\n",
        "        try:\n",
        "            # Menerima Input Dari Pengguna\n",
        "            tebakan = int(input(f\"Masukkan Tebakan Anda (Sisa Percobaan : {percobaan}) : \"))\n",
        "\n",
        "            # Memeriksa Jika Tebakan Salah\n",
        "            if tebakan < 1 or tebakan > 100:\n",
        "                print(\"Tebakan Anda Harus Antara 1 - 100.\")\n",
        "                percobaan -= 1\n",
        "                continue\n",
        "\n",
        "            # Memeriksa Jika Tebakan Benar\n",
        "            if tebakan == angka_sebenarnya:\n",
        "                print(f\"Selamat Anda Berhasil Menebak Angka {angka_sebenarnya} Dalam {6 - percobaan} Percobaan.\")\n",
        "                return True\n",
        "\n",
        "            # Memberikan Petunjuk Jika Tebakan Salah\n",
        "            if tebakan < angka_sebenarnya:\n",
        "                print(\"Tebakan Anda < Angka Sebenarnya. Coba Kembali!\")\n",
        "            else:\n",
        "                print(\"Tebakan Anda > Angka Sebenarnya. Coba Kembali!\")\n",
        "\n",
        "            percobaan -= 1\n",
        "\n",
        "        except ValueError:\n",
        "            print(\"Input Tidak Valid. Silakan Masukkan Angka Lagi.\")\n",
        "            percobaan -= 1\n",
        "\n",
        "    # Menampilkan Pesan Jika Pemain Kalah\n",
        "    print(f\"Maaf, Anda Tidak Berhasil Menebak Angka {angka_sebenarnya} Dalam 5 Kali Percobaan.\")\n",
        "    return False\n",
        "\n",
        "# Menjalankan Program\n",
        "menang = tebak_angka()\n",
        "\n",
        "if menang:\n",
        "    print(\"Selamat Anda Menang!\")\n",
        "else:\n",
        "    print(\"Mohon Maaf, Anda Kalah.\")"
      ]
    },
    {
      "cell_type": "markdown",
      "metadata": {
        "id": "oewnlWQIvDZ6"
      },
      "source": [
        "Soal 6 : Rekursi Yang Tidak Biasa\n",
        "\n",
        "Buat fungsi rekursif yang menerima input bilangan bulat `n` dan menghasilkan urutan bilangan seperti berikut ini :\n",
        "```\n",
        "Input: n = 4\n",
        "Output: 1, 1, 2, 6, 24\n",
        "```\n",
        "Fungsi ini harus menggunakan konsep rekursi untuk menghitung faktorial setiap angka hingga `n`."
      ]
    },
    {
      "cell_type": "code",
      "execution_count": 84,
      "metadata": {
        "colab": {
          "base_uri": "https://localhost:8080/"
        },
        "id": "FfJ9Y3cCvIj3",
        "outputId": "a3db7f88-82e2-4815-c3aa-284f28550247"
      },
      "outputs": [
        {
          "name": "stdout",
          "output_type": "stream",
          "text": [
            "[1, 1, 2, 6, 24]\n"
          ]
        }
      ],
      "source": [
        "def faktorial(n):\n",
        "    if n == 0:\n",
        "        return 1\n",
        "    else:\n",
        "        return n * faktorial(n-1)\n",
        "\n",
        "def urutan_bilangan(n):\n",
        "    result = []\n",
        "    for i in range(1, n+1):\n",
        "        result.append(faktorial(i))\n",
        "    return result\n",
        "\n",
        "print([1] + urutan_bilangan(4))"
      ]
    },
    {
      "cell_type": "markdown",
      "metadata": {
        "id": "nBNcSckmw3fz"
      },
      "source": [
        "Soal 7 : Pemrograman Dengan Algoritma Greedy\n",
        "\n",
        "Buatlah program untuk memecahkan masalah \"minimum coin change\". Diberikan jumlah uang dan daftar nilai koin yang tersedia (misalnya, 1, 5, 10, 25), tentukan kombinasi minimum koin yang diperlukan untuk mencapai jumlah uang tersebut. Namun, program Anda harus bisa menangani koin-koin yang nilai dan jumlahnya ditentukan pengguna."
      ]
    },
    {
      "cell_type": "code",
      "execution_count": 85,
      "metadata": {
        "colab": {
          "base_uri": "https://localhost:8080/"
        },
        "id": "O_zJItlxw4tG",
        "outputId": "471ed3be-cd17-4962-f0d9-3501eb396758"
      },
      "outputs": [
        {
          "name": "stdout",
          "output_type": "stream",
          "text": [
            "Masukkan Jumlah Uang Yang Ingin Dicapai : 55\n",
            "Masukkan Nilai Koin Yang Tersedia (Pisahkan Dengan Koma) : 5,10,15,20\n",
            "Kombinasi Minimum Koin Yang Diperlukan : 3\n"
          ]
        }
      ],
      "source": [
        "def min_coin_change(coins, amount):\n",
        "    dp = [float('inf')] * (amount + 1)\n",
        "    dp[0] = 0\n",
        "\n",
        "    for coin in coins:\n",
        "        for x in range(coin, amount + 1):\n",
        "            dp[x] = min(dp[x], dp[x - coin] + 1)\n",
        "\n",
        "    if dp[amount] == float('inf'):\n",
        "        return -1\n",
        "    else:\n",
        "        return dp[amount]\n",
        "\n",
        "def main():\n",
        "    amount = int(input(\"Masukkan Jumlah Uang Yang Ingin Dicapai : \"))\n",
        "    coins_input = input(\"Masukkan Nilai Koin Yang Tersedia (Pisahkan Dengan Koma) : \")\n",
        "    coins = list(map(int, coins_input.split(',')))\n",
        "\n",
        "    result = min_coin_change(coins, amount)\n",
        "    if result == -1:\n",
        "        print(\"Tidak Ada Kombinasi Koin Yang Dapat Mencapai Jumlah Uang Tersebut.\")\n",
        "    else:\n",
        "        print(f\"Kombinasi Minimum Koin Yang Diperlukan : {result}\")\n",
        "\n",
        "if __name__ == \"__main__\":\n",
        "    main()"
      ]
    },
    {
      "cell_type": "markdown",
      "metadata": {
        "id": "sqmJ5nzpxcg5"
      },
      "source": [
        "Soal 8 : Kombinasi String Dan Manipulasi List\n",
        "\n",
        "Buat sebuah program yang menerima string dari pengguna dan mengonversi string tersebut menjadi sebuah list berisi kata-kata terbalik. Misalnya :\n",
        "```\n",
        "Input: \"Saya suka Python\"\n",
        "Output: [\"ayaS\", \"akus\", \"nohtyP\"]\n",
        "```\n"
      ]
    },
    {
      "cell_type": "code",
      "execution_count": 86,
      "metadata": {
        "colab": {
          "base_uri": "https://localhost:8080/"
        },
        "id": "GiOX-cbuzGyH",
        "outputId": "d0517e86-e0cb-41a1-8d15-0ece29096bb2"
      },
      "outputs": [
        {
          "name": "stdout",
          "output_type": "stream",
          "text": [
            "Masukkan string: Faith Over Fear\n",
            "['htiaF', 'revO', 'raeF']\n"
          ]
        }
      ],
      "source": [
        "def reverse_words(input_string):\n",
        "    # Memisahkan String Menjadi Kata-Kata\n",
        "    words = input_string.split()\n",
        "\n",
        "    # Membalikkan Setiap Kata Dan Menyimpannya Kedalam List\n",
        "    reversed_words = [word[::-1] for word in words]\n",
        "\n",
        "    return reversed_words\n",
        "\n",
        "# Fungsi Utama Untuk Menerima Input Dari Pengguna\n",
        "def main():\n",
        "    # Menerima Input String Dari Pengguna\n",
        "    user_input = input(\"Masukkan string: \")\n",
        "\n",
        "    # Mengonversi String Menjadi List Kata Terbalik\n",
        "    result = reverse_words(user_input)\n",
        "\n",
        "    # Menampilkan Hasil\n",
        "    print(result)\n",
        "\n",
        "# Menjalankan Program\n",
        "if __name__ == \"__main__\":\n",
        "    main()"
      ]
    },
    {
      "cell_type": "markdown",
      "metadata": {
        "id": "-hS6WH0hzjbX"
      },
      "source": [
        "Soal 9 : Konsep Class Dan Object-Oriented Programming\n",
        "\n",
        "Buat class bernama `Buku` yang memiliki atribut `judul`, `penulis`, dan `tahun_terbit`. Buat method dalam class untuk menampilkan informasi buku, serta method untuk menghitung usia buku berdasarkan tahun saat ini. Buatlah 3 objek dari class `Buku` dan tampilkan informasi serta usia masing-masing buku.\n"
      ]
    },
    {
      "cell_type": "code",
      "execution_count": 90,
      "metadata": {
        "colab": {
          "base_uri": "https://localhost:8080/"
        },
        "id": "Vs7_LAWEzqkU",
        "outputId": "a95434b5-e012-4b82-e7a9-2797ba3afe7e"
      },
      "outputs": [
        {
          "name": "stdout",
          "output_type": "stream",
          "text": [
            "Informasi Dan Usia Buku :\n",
            "Judul Buku   : Saya Suka Kamu\n",
            "Penulis      : Ayu Utami\n",
            "Tahun Terbit : 2002\n",
            "Usia Buku    : 22 Tahun\n",
            "\n",
            "Judul Buku   : Harry Potter Dan Batu Bertuah\n",
            "Penulis      : J.K. Rowling\n",
            "Tahun Terbit : 1997\n",
            "Usia Buku    : 27 Tahun\n",
            "\n",
            "Judul Buku   : 1984\n",
            "Penulis      : George Orwell\n",
            "Tahun Terbit : 1949\n",
            "Usia Buku    : 75 Tahun\n"
          ]
        }
      ],
      "source": [
        "from datetime import datetime\n",
        "\n",
        "class Buku:\n",
        "    def __init__(self, judul, penulis, tahun_terbit):\n",
        "        self.judul = judul\n",
        "        self.penulis = penulis\n",
        "        self.tahun_terbit = tahun_terbit\n",
        "\n",
        "    def tampilkan_informasi(self):\n",
        "        print(f\"Judul Buku   : {self.judul}\")\n",
        "        print(f\"Penulis      : {self.penulis}\")\n",
        "        print(f\"Tahun Terbit : {self.tahun_terbit}\")\n",
        "\n",
        "    def hitung_usia_buku(self):\n",
        "        tahun_saat_ini = datetime.now().year\n",
        "        usia_buku = tahun_saat_ini - self.tahun_terbit\n",
        "        return usia_buku\n",
        "\n",
        "# Membuat 3 Objek Dari Class Buku\n",
        "buku1 = Buku(\"Saya Suka Kamu\", \"Ayu Utami\", 2002)\n",
        "buku2 = Buku(\"Harry Potter Dan Batu Bertuah\", \"J.K. Rowling\", 1997)\n",
        "buku3 = Buku(\"1984\", \"George Orwell\", 1949)\n",
        "\n",
        "# Menampilkan Informasi Dan Usia Masing-Masing Buku\n",
        "print(\"Informasi Dan Usia Buku :\")\n",
        "buku1.tampilkan_informasi()\n",
        "print(f\"Usia Buku    : {buku1.hitung_usia_buku()} Tahun\")\n",
        "print()\n",
        "\n",
        "buku2.tampilkan_informasi()\n",
        "print(f\"Usia Buku    : {buku2.hitung_usia_buku()} Tahun\")\n",
        "print()\n",
        "\n",
        "buku3.tampilkan_informasi()\n",
        "print(f\"Usia Buku    : {buku3.hitung_usia_buku()} Tahun\")"
      ]
    },
    {
      "cell_type": "markdown",
      "metadata": {
        "id": "o8jGX3YJ0GcN"
      },
      "source": [
        "Soal 10 : Algoritma Dengan Persyaratan Logika Khusus\n",
        "\n",
        "Buatlah program yang mengimplementasikan algoritma pencarian biner, namun dengan modifikasi: algoritma harus bisa mencari nilai di list yang hanya berisi angka genap, dan jika nilai yang dicari adalah angka ganjil, program harus menampilkan pesan bahwa nilai tersebut tidak bisa ditemukan.\n"
      ]
    },
    {
      "cell_type": "code",
      "execution_count": 91,
      "metadata": {
        "colab": {
          "base_uri": "https://localhost:8080/"
        },
        "id": "mQBdXPXM0JTg",
        "outputId": "b72264da-f137-46f0-a00d-27ef258068e2"
      },
      "outputs": [
        {
          "name": "stdout",
          "output_type": "stream",
          "text": [
            "Masukkan List Angka Genap (Pisahkan Dengan Koma) : 34,56,21,49,17\n",
            "Masukkan Nilai Yang Ingin Dicari : 21\n",
            "List Hanya Boleh Berisi Angka Genap.\n",
            "Nilai 21 Tidak Ditemukan Dalam List.\n"
          ]
        }
      ],
      "source": [
        "def binary_search(arr, target):\n",
        "    # Memastikan Bahwa List Hanya Berisi Angka Genap\n",
        "    if any(x % 2 != 0 for x in arr):\n",
        "        print(\"List Hanya Boleh Berisi Angka Genap.\")\n",
        "        return None\n",
        "\n",
        "    # Membuat Salinan List Asli Untuk Tidak Mengubahnya Secara Langsung\n",
        "    arr_copy = sorted(arr)\n",
        "\n",
        "    low = 0\n",
        "    high = len(arr_copy) - 1\n",
        "\n",
        "    while low <= high:\n",
        "        mid = (low + high) // 2\n",
        "\n",
        "        if arr_copy[mid] == target:\n",
        "            return mid\n",
        "\n",
        "        elif arr_copy[mid] < target:\n",
        "            low = mid + 1\n",
        "\n",
        "        else:\n",
        "            high = mid - 1\n",
        "\n",
        "    if target % 2 != 0:\n",
        "        print(\"Nilai Yang Dicari Bukanlah Angka Genap Dan Tidak Dapat Ditemukan Dalam List.\")\n",
        "\n",
        "# Fungsi Utama Untuk Menerima Input Dari Pengguna\n",
        "def main():\n",
        "    # Menerima Input List Dan Nilai Yang Dicari Dari Pengguna\n",
        "    user_input_list = input(\"Masukkan List Angka Genap (Pisahkan Dengan Koma) : \")\n",
        "    target_value = int(input(\"Masukkan Nilai Yang Ingin Dicari : \"))\n",
        "\n",
        "    # Mengonversi Input String Menjadi List Integer\n",
        "    arr = list(map(int, user_input_list.split(',')))\n",
        "\n",
        "    # Melakukan Pencarian Biner Dengan Modifikasi\n",
        "    result = binary_search(arr, target_value)\n",
        "\n",
        "    if result is not None:\n",
        "        print(f\"Nilai {target_value} Ditemukan Di Indeks Ke {result}.\")\n",
        "    else:\n",
        "        print(f\"Nilai {target_value} Tidak Ditemukan Dalam List.\")\n",
        "\n",
        "# Menjalankan Program\n",
        "if __name__ == \"__main__\":\n",
        "    main()"
      ]
    }
  ],
  "metadata": {
    "colab": {
      "provenance": []
    },
    "kernelspec": {
      "display_name": "Python 3",
      "name": "python3"
    },
    "language_info": {
      "name": "python"
    }
  },
  "nbformat": 4,
  "nbformat_minor": 0
}
